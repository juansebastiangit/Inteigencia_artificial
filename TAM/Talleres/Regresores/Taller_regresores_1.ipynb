{
  "nbformat": 4,
  "nbformat_minor": 0,
  "metadata": {
    "colab": {
      "provenance": [],
      "authorship_tag": "ABX9TyPbE/E4rZTHZS5lM9ITNhvp",
      "include_colab_link": true
    },
    "kernelspec": {
      "name": "python3",
      "display_name": "Python 3"
    },
    "language_info": {
      "name": "python"
    }
  },
  "cells": [
    {
      "cell_type": "markdown",
      "metadata": {
        "id": "view-in-github",
        "colab_type": "text"
      },
      "source": [
        "<a href=\"https://colab.research.google.com/github/juansebastiangit/Inteligencia_artificial/blob/main/Taller_regresores_1.ipynb\" target=\"_parent\"><img src=\"https://colab.research.google.com/assets/colab-badge.svg\" alt=\"Open In Colab\"/></a>"
      ]
    },
    {
      "cell_type": "markdown",
      "source": [
        "# Taller 1 TAM - Regresores"
      ],
      "metadata": {
        "id": "_3FgX6YOhxUN"
      }
    },
    {
      "cell_type": "markdown",
      "source": [
        "*Ejercicio 1 - Demostración"
      ],
      "metadata": {
        "id": "pLsEozZCh46K"
      }
    },
    {
      "cell_type": "code",
      "execution_count": null,
      "metadata": {
        "id": "alCUlE9EhwVQ"
      },
      "outputs": [],
      "source": []
    }
  ]
}
